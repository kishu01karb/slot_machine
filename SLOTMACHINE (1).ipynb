{
  "nbformat": 4,
  "nbformat_minor": 0,
  "metadata": {
    "colab": {
      "provenance": []
    },
    "kernelspec": {
      "name": "python3",
      "display_name": "Python 3"
    },
    "language_info": {
      "name": "python"
    }
  },
  "cells": [
    {
      "cell_type": "markdown",
      "source": [
        "SLOT MACHINE"
      ],
      "metadata": {
        "id": "_iV1NSlDV6kn"
      }
    },
    {
      "cell_type": "code",
      "source": [
        "import random\n",
        "\n",
        "\n",
        "MAX_LINES=3\n",
        "MAX_BET=100\n",
        "MIN_BET=1\n",
        "\n",
        "ROW=3\n",
        "COLS=3\n",
        "\n",
        "symbol_count={\n",
        "    \"A\":2,\n",
        "    \"B\":4,\n",
        "    \"C\":6,\n",
        "    \"D\":8\n",
        "}\n",
        "symbol_value={\n",
        "    \"A\":5,\n",
        "    \"B\":4,\n",
        "    \"C\":3,\n",
        "    \"D\":2\n",
        "}\n",
        "\n",
        "\n"
      ],
      "metadata": {
        "id": "bfsZ97fkZDmG"
      },
      "execution_count": null,
      "outputs": []
    },
    {
      "cell_type": "code",
      "source": [
        "def check_winnings(columns,lines,bet,values):\n",
        "  winnings=0\n",
        "  winnings_lines=[]\n",
        "  for line in range(lines):\n",
        "    symbol=columns[0][line]\n",
        "    for column in columns:\n",
        "      symbol_to_check=column[line]\n",
        "      if symbol != symbol_to_check:\n",
        "        break\n",
        "    else:\n",
        "      winnings += values[symbol] * bet\n",
        "      winnings_lines.append(line+1)\n",
        "  return winnings, winnings_lines"
      ],
      "metadata": {
        "id": "6YbKUIzMtpA7"
      },
      "execution_count": null,
      "outputs": []
    },
    {
      "cell_type": "code",
      "source": [
        "def get_slot_machine_spin(rows,cols,symbols):\n",
        "  all_symbols =[]\n",
        "  for symbol, symbol_count in symbols.items():\n",
        "    for _ in range (symbol_count):\n",
        "      all_symbols.append(symbol)\n",
        "\n",
        "  columns=[]\n",
        "  for _ in range(cols):\n",
        "    column=[]\n",
        "    current_symbol=all_symbols[:]\n",
        "    for _ in range(rows):\n",
        "      value=random.choice(current_symbol)\n",
        "      current_symbol.remove(value)\n",
        "      column.append(value)\n",
        "    columns.append(column)\n",
        "  return columns\n",
        "\n",
        "def print_slot_machine(columns):\n",
        "  for row in range(len(columns[0])):\n",
        "    for i, column in enumerate(columns):\n",
        "      if i != len(columns) - 1:\n",
        "        print(column[row], end=\" | \")\n",
        "      else:\n",
        "        print(column[row], end=\"\")\n",
        "\n",
        "\n",
        "    print()"
      ],
      "metadata": {
        "id": "IIyE12y_fgI7"
      },
      "execution_count": null,
      "outputs": []
    },
    {
      "cell_type": "code",
      "execution_count": null,
      "metadata": {
        "id": "QSH3fx1VVbaa"
      },
      "outputs": [],
      "source": [
        "#deposit\n",
        "def deposit():\n",
        "  while True:\n",
        "    amount = input(\"Amount you would like to deposit?$\")\n",
        "    if amount.isdigit():\n",
        "      amount = int(amount)\n",
        "      if amount > 0:\n",
        "        break\n",
        "      else:\n",
        "        print(\"amount must be greater than 0\")\n",
        "    else:\n",
        "      print(\"please enter a number\")\n",
        "  return amount"
      ]
    },
    {
      "cell_type": "code",
      "source": [
        "deposit()"
      ],
      "metadata": {
        "colab": {
          "base_uri": "https://localhost:8080/"
        },
        "id": "K0CbUHeCYRYb",
        "outputId": "2e30d8b1-1ac8-4e6b-80dd-e600aa5c5b75"
      },
      "execution_count": null,
      "outputs": [
        {
          "name": "stdout",
          "output_type": "stream",
          "text": [
            "Amount you would like to deposit?$100\n"
          ]
        },
        {
          "output_type": "execute_result",
          "data": {
            "text/plain": [
              "100"
            ]
          },
          "metadata": {},
          "execution_count": 32
        }
      ]
    },
    {
      "cell_type": "code",
      "source": [
        "def get_number_of_lines():\n",
        "  while True:\n",
        "    lines = input(\"enter the number of lines to bet on (1-\"+str(MAX_LINES)+\")?\")\n",
        "    if lines.isdigit():\n",
        "      lines = int(lines)\n",
        "      if 1<=lines<=MAX_LINES:\n",
        "        break\n",
        "      else:\n",
        "        print(\"enter valid number of lines\")\n",
        "    else:\n",
        "      print(\"please enter a number\")\n",
        "  return lines\n"
      ],
      "metadata": {
        "id": "tWLBfp5oZWE1"
      },
      "execution_count": null,
      "outputs": []
    },
    {
      "cell_type": "code",
      "source": [
        "def get_bet():\n",
        "   while True:\n",
        "    amount = input(\"Amount you would like to bet on each line?$\")\n",
        "    if amount.isdigit():\n",
        "      amount = int(amount)\n",
        "      if MIN_BET<=amount<=MAX_BET:\n",
        "        break\n",
        "      else:\n",
        "        print(f\"amount must be betweeen ${MIN_BET}-${MAX_BET}.\")\n",
        "    else:\n",
        "      print(\"please enter a number\")\n",
        "   return amount\n",
        "\n"
      ],
      "metadata": {
        "id": "T5wFYDmgcOkO"
      },
      "execution_count": null,
      "outputs": []
    },
    {
      "cell_type": "code",
      "source": [
        "def spin(balance):\n",
        "  lines = get_number_of_lines()\n",
        "  while True:\n",
        "    bet = get_bet()\n",
        "    total_bet = bet * lines\n",
        "\n",
        "    if total_bet > balance:\n",
        "      print(f\" you do not have enought balance to bet on, your curerent balance is :${balance}\")\n",
        "    else:\n",
        "      break\n",
        "\n",
        "  print(f\"you are betting ${bet} on {lines} lines. total bet is =${total_bet}\")\n",
        "\n",
        "  slots=get_slot_machine_spin(ROW,COLS,symbol_count)\n",
        "  print_slot_machine(slots)\n",
        "  winnings,winning_lines=check_winnings(slots,lines,bet,symbol_value)\n",
        "  print(f\"you won ${winnings}\")\n",
        "  print(f\"you won on lines:\", *winning_lines)\n",
        "  return winnings - total_bet"
      ],
      "metadata": {
        "id": "q5J5K1f7yde2"
      },
      "execution_count": null,
      "outputs": []
    },
    {
      "cell_type": "code",
      "source": [
        "def main():\n",
        "  balance = deposit()\n",
        "  while True:\n",
        "    print(f\"current balance is ${balance}\")\n",
        "    answer = input(\"press enter to play (q to quit).\")\n",
        "    if answer == \"q\":\n",
        "      break\n",
        "    balance += spin(balance)\n",
        "\n",
        "    print(f\"you left with ${balance}\")\n",
        "\n",
        "main()"
      ],
      "metadata": {
        "colab": {
          "base_uri": "https://localhost:8080/"
        },
        "id": "KZwPfsb-YVwR",
        "outputId": "37f4e55e-44c6-423e-d59e-f38c53a4af1d"
      },
      "execution_count": null,
      "outputs": [
        {
          "name": "stdout",
          "output_type": "stream",
          "text": [
            "Amount you would like to deposit?$100\n",
            "current balance is $100\n",
            "press enter to play (q to quit).\n",
            "enter the number of lines to bet on (1-3)?2\n",
            "Amount you would like to bet on each line?$20\n",
            "you are betting $20 on 2 lines. total bet is =$40\n",
            "D | B | D\n",
            "C | C | C\n",
            "C | D | D\n",
            "you won $60\n",
            "you won on lines: 2\n",
            "you left with $120\n",
            "current balance is $120\n",
            "press enter to play (q to quit).\n",
            "enter the number of lines to bet on (1-3)?3\n",
            "Amount you would like to bet on each line?$10\n",
            "you are betting $10 on 3 lines. total bet is =$30\n",
            "B | D | C\n",
            "D | B | D\n",
            "A | B | C\n",
            "you won $0\n",
            "you won on lines:\n",
            "you left with $90\n",
            "current balance is $90\n",
            "press enter to play (q to quit).\n",
            "enter the number of lines to bet on (1-3)?2\n",
            "Amount you would like to bet on each line?$10\n",
            "you are betting $10 on 2 lines. total bet is =$20\n",
            "C | D | C\n",
            "C | B | D\n",
            "D | D | D\n",
            "you won $0\n",
            "you won on lines:\n",
            "you left with $70\n",
            "current balance is $70\n",
            "press enter to play (q to quit).q\n"
          ]
        }
      ]
    }
  ]
}